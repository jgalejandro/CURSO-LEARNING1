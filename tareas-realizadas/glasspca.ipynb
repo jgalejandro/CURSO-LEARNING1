{
  "nbformat": 4,
  "nbformat_minor": 0,
  "metadata": {
    "colab": {
      "provenance": [],
      "collapsed_sections": []
    },
    "kernelspec": {
      "name": "python3",
      "display_name": "Python 3"
    },
    "language_info": {
      "name": "python"
    }
  },
  "cells": [
    {
      "cell_type": "code",
      "execution_count": 1,
      "metadata": {
        "id": "Hg6_z7jbkCTY"
      },
      "outputs": [],
      "source": [
        "import tensorflow as tf \n",
        "import numpy as np\n",
        "import csv \n",
        "import matplotlib.pyplot as plt \n",
        "from urllib import request\n",
        "from sklearn import decomposition\n",
        "from sklearn import datasets\n",
        "\n",
        "\n",
        "def curado(v,k):\n",
        "  total = np.zeros(np.size(v))\n",
        "  false_array = np.zeros(np.size(v))\n",
        "  c = 0\n",
        "  for i in np.arange(k+1):\n",
        "    mask = np.where(v == i, True, False)\n",
        "    if(np.array_equal(mask, false_array)):#condicion de que todo el array es false\n",
        "      continue\n",
        "    filtrado = mask*c\n",
        "    total = total+filtrado\n",
        "    c = c+1\n",
        "  return total, c \n",
        "\n",
        "example_url=\"https://raw.githubusercontent.com/CSC-CONICET/CURSO-LEARNING1/main/datasets/glass.csv\" \n",
        "f = request.urlopen(example_url) \n",
        "dataset = np.loadtxt(f, dtype=float, delimiter=\",\", skiprows = 1)\n",
        "\n",
        "quimicos = np.array(dataset[:,:9]) #tomo las primeras 9 columnas\n",
        "resultado = np.array(dataset[:,9]) #la ultima columna me determina el resultado\n",
        "largo = np.size(resultado) \n",
        "#curacion de datos\n",
        "resultado, k = curado(resultado, 7)\n",
        "\n",
        "#normalizacion de datos \n",
        "desvio_std = np.std(quimicos,axis=0) #poner el axis si o si para que calcule la media de forma adecuada.\n",
        "media = np.mean(quimicos,axis=0)\n",
        "quimicos_norm = (quimicos-media)/desvio_std"
      ]
    },
    {
      "cell_type": "code",
      "source": [
        "#busco la dimension que reduce el ecm!\n",
        "for x in np.arange(np.shape(quimicos_norm)[1]):\n",
        "  pca = decomposition.PCA(n_components=x)\n",
        "  pca.fit(quimicos_norm)\n",
        "  U = pca.transform(quimicos_norm)\n",
        "  Xh = pca.inverse_transform(U)\n",
        "  #print('ECM',np.sum((quimicos_norm-Xh)**2)/largo)\n",
        "  plt.scatter(x, np.sum((quimicos_norm-Xh)**2)/largo, color ='blue')\n",
        "plt.grid()\n",
        "plt.xlabel('Dimension')\n",
        "plt.ylabel('ECM')\n",
        "plt.title('Dimension vs ECM')"
      ],
      "metadata": {
        "colab": {
          "base_uri": "https://localhost:8080/",
          "height": 312
        },
        "id": "0oKoriX9krTC",
        "outputId": "9600cb0b-dca8-42a1-d917-1c1bb74e14a3"
      },
      "execution_count": 2,
      "outputs": [
        {
          "output_type": "execute_result",
          "data": {
            "text/plain": [
              "Text(0.5, 1.0, 'Dimension vs ECM')"
            ]
          },
          "metadata": {},
          "execution_count": 2
        },
        {
          "output_type": "display_data",
          "data": {
            "text/plain": [
              "<Figure size 432x288 with 1 Axes>"
            ],
            "image/png": "[encoded data removed]"
          },
          "metadata": {
            "needs_background": "light"
          }
        }
      ]
    },
    {
      "cell_type": "code",
      "source": [
        "#porcentaje de energia en funcion de las dimensiones\n",
        "for x in np.arange(np.shape(quimicos_norm)[1]+1):\n",
        "  pca = decomposition.PCA(n_components=x)\n",
        "  pca.fit(quimicos_norm)\n",
        "  U = pca.transform(quimicos_norm)\n",
        "  Xh = pca.inverse_transform(U)\n",
        "  #print('ECM',np.sum((quimicos_norm-Xh)**2)/largo)\n",
        "  plt.scatter(x,100*np.sum(pca.explained_variance_ratio_), color = 'red')\n",
        "plt.grid()\n",
        "plt.ylabel(\"Energia [%]\")\n",
        "plt.xlabel(\"Dimension\")\n",
        "plt.title(\"Dimesion vs Energia\")\n",
        "\n"
      ],
      "metadata": {
        "colab": {
          "base_uri": "https://localhost:8080/",
          "height": 312
        },
        "id": "83G3sQqLrWC-",
        "outputId": "08125d0e-61d3-44de-f7e4-cc4c86c42459"
      },
      "execution_count": 3,
      "outputs": [
        {
          "output_type": "execute_result",
          "data": {
            "text/plain": [
              "Text(0.5, 1.0, 'Dimesion vs Energia')"
            ]
          },
          "metadata": {},
          "execution_count": 3
        },
        {
          "output_type": "display_data",
          "data": {
            "text/plain": [
              "<Figure size 432x288 with 1 Axes>"
            ],
            "image/png": "[encoded data removed]"
          },
          "metadata": {
            "needs_background": "light"
          }
        }
      ]
    },
    {
      "cell_type": "code",
      "source": [
        "from scipy.stats import norm\n",
        "from scipy.stats import t\n",
        "from scipy.stats import cauchy\n",
        "x = 1\n",
        "pca = decomposition.PCA(n_components=x)\n",
        "pca.fit(quimicos_norm)\n",
        "U = pca.transform(quimicos_norm)\n",
        "plt.hist(U, 25, density=True)\n",
        "y = np.linspace(-6,6, 1000)\n",
        "plt.plot(y, norm.pdf(y,0, 0.75), label = 'Normal')\n",
        "#plt.plot(y, t.pdf(y, 200), label = 't-student')\n",
        "#plt.plot(y,cauchy.pdf(y,1e-5), label = 'cauchy')\n",
        "plt.legend()"
      ],
      "metadata": {
        "id": "Lnl0c8gytlGc",
        "colab": {
          "base_uri": "https://localhost:8080/",
          "height": 282
        },
        "outputId": "0522d292-ae54-4072-80f1-3772559ddb31"
      },
      "execution_count": 20,
      "outputs": [
        {
          "output_type": "execute_result",
          "data": {
            "text/plain": [
              "<matplotlib.legend.Legend at 0x7f5d91c218d0>"
            ]
          },
          "metadata": {},
          "execution_count": 20
        },
        {
          "output_type": "display_data",
          "data": {
            "text/plain": [
              "<Figure size 432x288 with 1 Axes>"
            ],
            "image/png": "[encoded data removed]"
          },
          "metadata": {
            "needs_background": "light"
          }
        }
      ]
    },
    {
      "cell_type": "code",
      "source": [
        "#simulo nuevos vidrios (con valores normalizados)\n",
        "simulated_glasses = []\n",
        "sintetic_data = np.random.normal(loc=0.0, scale=0.75, size = 5)\n",
        "for x in np.arange(sintetic_data.size):\n",
        "    simulated_glasses.append(pca.inverse_transform(sintetic_data[x]))\n",
        "print(simulated_glasses)"
      ],
      "metadata": {
        "colab": {
          "base_uri": "https://localhost:8080/"
        },
        "id": "zIIASXmc6UZu",
        "outputId": "3af62885-5522-4b41-bd00-973bf7d35464"
      },
      "execution_count": 27,
      "outputs": [
        {
          "output_type": "stream",
          "name": "stdout",
          "text": [
            "[array([[-0.52143297,  0.24688365, -0.10605184,  0.41003742,  0.21887002,\n",
            "         0.20979113, -0.47086507,  0.23947073, -0.17774773]]), array([[ 0.94218701, -0.4460987 ,  0.19162706, -0.7409043 , -0.39548034,\n",
            "        -0.37907552,  0.85081491, -0.43270415,  0.3211757 ]]), array([[ 0.34628759, -0.16395731,  0.07042983, -0.27230896, -0.14535324,\n",
            "        -0.13932388,  0.31270506, -0.15903433,  0.11804362]]), array([[-0.05215068,  0.02469186, -0.01060669,  0.04100955,  0.0218901 ,\n",
            "         0.02098208, -0.04709318,  0.02395047, -0.01777729]]), array([[-0.61492888,  0.2911513 , -0.12506754,  0.48355947,  0.25811467,\n",
            "         0.24740788, -0.55529386,  0.2824092 , -0.20961891]])]\n"
          ]
        }
      ]
    }
  ]
}