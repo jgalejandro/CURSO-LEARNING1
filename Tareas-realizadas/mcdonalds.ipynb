#primer problema con regresion lineal
import numpy as np
import matplotlib.pyplot as plt
from urllib import request
example1_url="https://raw.githubusercontent.com/CSC-CONICET/CURSO-LEARNING1/main/datasets/mc.txt"
f = request.urlopen(example1_url)
dataset = np.loadtxt(f, dtype=float, delimiter=",")

def recta_regresion(a,b,x):
  y = a*x+b
  return y

x= dataset[:,0]
#x_t = x.reshape(len(dataset),1)
y = dataset[:,1]
largo = len(dataset)
plt.scatter(x,y,label='Dataset')

a = []
for n in range(largo):
  a.append([x[n],1]) #tiene una columna de unos y otro de los valores de x
w = np.linalg.inv(np.transpose(a)@a)@np.transpose(a)@y #de aca sale w[0] = w y w[1] = b

y_res = []

absisa = np.linspace(5, 22.5, num=100)
plt.plot(absisa, absisa*w[0]+w[1], color='orange',label='recta de regresion')

plt.legend()

#error cuadratico medio ECM = ||y-a*x||^2
y_predictor = []
for i in np.arange(largo):
  y_predictor.append(w[0]*x[i]+w[1])
ECM = 0
for j in range(largo):
  ECM = ECM + (y_predictor[j]-y[j])*(y_predictor[j]-y[j])

ECM = ECM/largo
autovalores = np.linalg.eigvals(np.transpose(a)@a)
print(autovalores)

print("El ECM es:", ECM)

print("La ganancia estimada para 35000 habitantes es:", recta_regresion(w[0],w[1],3.5))
